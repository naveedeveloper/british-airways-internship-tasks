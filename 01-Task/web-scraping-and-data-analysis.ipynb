{
 "cells": [
  {
   "cell_type": "markdown",
   "id": "86ea68ee",
   "metadata": {},
   "source": [
    "# Task 1"
   ]
  },
  {
   "cell_type": "markdown",
   "id": "0aa9521d",
   "metadata": {},
   "source": [
    "## Web Scraping and Analysis\n",
    "If you visit [https://www.airlinequality.com] you can see that there is a lot of data there. For this task, we are only interested in reviews related to British Airways and the Airline itself."
   ]
  },
  {
   "cell_type": "code",
   "execution_count": 1,
   "id": "2b7a7fad",
   "metadata": {},
   "outputs": [],
   "source": [
    "import pandas as pd\n",
    "import numpy as np\n",
    "from bs4 import BeautifulSoup\n",
    "import requests"
   ]
  },
  {
   "cell_type": "markdown",
   "id": "d55ff63e",
   "metadata": {},
   "source": [
    "### Web Scraping"
   ]
  },
  {
   "cell_type": "code",
   "execution_count": 2,
   "id": "c20f2f1f",
   "metadata": {},
   "outputs": [
    {
     "name": "stdout",
     "output_type": "stream",
     "text": [
      "Scraping page 1\n",
      "   ---> 100 total reviews\n",
      "Scraping page 2\n",
      "   ---> 200 total reviews\n",
      "Scraping page 3\n",
      "   ---> 300 total reviews\n",
      "Scraping page 4\n",
      "   ---> 400 total reviews\n",
      "Scraping page 5\n",
      "   ---> 500 total reviews\n",
      "Scraping page 6\n",
      "   ---> 600 total reviews\n",
      "Scraping page 7\n",
      "   ---> 700 total reviews\n",
      "Scraping page 8\n",
      "   ---> 800 total reviews\n",
      "Scraping page 9\n",
      "   ---> 900 total reviews\n",
      "Scraping page 10\n",
      "   ---> 1000 total reviews\n"
     ]
    }
   ],
   "source": [
    "base_url = \"https://www.airlinequality.com/airline-reviews/british-airways\"\n",
    "pages = 10\n",
    "page_size = 100\n",
    "\n",
    "reviews = []\n",
    "\n",
    "for i in range(1, pages + 1):\n",
    "\n",
    "    print(f\"Scraping page {i}\")\n",
    "    url = f\"{base_url}/page/{i}/?sortby=post_date%3ADesc&pagesize={page_size}\"\n",
    "\n",
    "    response = requests.get(url)\n",
    "\n",
    "    content = response.content\n",
    "    parsed_content = BeautifulSoup(content, 'html.parser')\n",
    "    for para in parsed_content.find_all(\"div\", {\"class\": \"text_content\"}):\n",
    "        reviews.append(para.get_text())\n",
    "    \n",
    "    print(f\"   ---> {len(reviews)} total reviews\")"
   ]
  },
  {
   "cell_type": "code",
   "execution_count": 3,
   "id": "fb8c97ab",
   "metadata": {},
   "outputs": [],
   "source": [
    "df = pd.DataFrame()\n",
    "df['reviews'] = reviews"
   ]
  },
  {
   "cell_type": "code",
   "execution_count": 4,
   "id": "604d8fa3",
   "metadata": {},
   "outputs": [
    {
     "data": {
      "text/html": [
       "<div>\n",
       "<style scoped>\n",
       "    .dataframe tbody tr th:only-of-type {\n",
       "        vertical-align: middle;\n",
       "    }\n",
       "\n",
       "    .dataframe tbody tr th {\n",
       "        vertical-align: top;\n",
       "    }\n",
       "\n",
       "    .dataframe thead th {\n",
       "        text-align: right;\n",
       "    }\n",
       "</style>\n",
       "<table border=\"1\" class=\"dataframe\">\n",
       "  <thead>\n",
       "    <tr style=\"text-align: right;\">\n",
       "      <th></th>\n",
       "      <th>reviews</th>\n",
       "    </tr>\n",
       "  </thead>\n",
       "  <tbody>\n",
       "    <tr>\n",
       "      <th>0</th>\n",
       "      <td>✅ Trip Verified |  Quick bag drop at First Win...</td>\n",
       "    </tr>\n",
       "    <tr>\n",
       "      <th>1</th>\n",
       "      <td>✅ Trip Verified |  4 Hours before takeoff we r...</td>\n",
       "    </tr>\n",
       "    <tr>\n",
       "      <th>2</th>\n",
       "      <td>✅ Trip Verified |  I recently had a delay on B...</td>\n",
       "    </tr>\n",
       "    <tr>\n",
       "      <th>3</th>\n",
       "      <td>Not Verified |  Boarded on time, but it took a...</td>\n",
       "    </tr>\n",
       "    <tr>\n",
       "      <th>4</th>\n",
       "      <td>✅ Trip Verified |  5 days before the flight, w...</td>\n",
       "    </tr>\n",
       "  </tbody>\n",
       "</table>\n",
       "</div>"
      ],
      "text/plain": [
       "                                             reviews\n",
       "0  ✅ Trip Verified |  Quick bag drop at First Win...\n",
       "1  ✅ Trip Verified |  4 Hours before takeoff we r...\n",
       "2  ✅ Trip Verified |  I recently had a delay on B...\n",
       "3  Not Verified |  Boarded on time, but it took a...\n",
       "4  ✅ Trip Verified |  5 days before the flight, w..."
      ]
     },
     "execution_count": 4,
     "metadata": {},
     "output_type": "execute_result"
    }
   ],
   "source": [
    "df.head()"
   ]
  },
  {
   "cell_type": "markdown",
   "id": "edc129f9",
   "metadata": {},
   "source": [
    "Now, We have the dataset for this task. The next thing that should be cleaned from this data to remove any unnecessary text from each of the rows. For example, \"✅ Trip Verified\" can be removed from each row if it exists, as it's not relevant to what we want to investigate."
   ]
  },
  {
   "cell_type": "markdown",
   "id": "7ab91cdd",
   "metadata": {},
   "source": [
    "### Data Analysis"
   ]
  },
  {
   "cell_type": "markdown",
   "id": "8202dcaf",
   "metadata": {},
   "source": [
    "Removing the parts before | in the reviews column"
   ]
  },
  {
   "cell_type": "code",
   "execution_count": 5,
   "id": "df189358",
   "metadata": {},
   "outputs": [],
   "source": [
    "def remove(review):\n",
    "    return review.split(\"|\")[1]"
   ]
  },
  {
   "cell_type": "code",
   "execution_count": 6,
   "id": "79312aab",
   "metadata": {},
   "outputs": [],
   "source": [
    "df.reviews = df.reviews.apply(remove)"
   ]
  },
  {
   "cell_type": "code",
   "execution_count": 7,
   "id": "c40bc923",
   "metadata": {},
   "outputs": [
    {
     "data": {
      "text/html": [
       "<div>\n",
       "<style scoped>\n",
       "    .dataframe tbody tr th:only-of-type {\n",
       "        vertical-align: middle;\n",
       "    }\n",
       "\n",
       "    .dataframe tbody tr th {\n",
       "        vertical-align: top;\n",
       "    }\n",
       "\n",
       "    .dataframe thead th {\n",
       "        text-align: right;\n",
       "    }\n",
       "</style>\n",
       "<table border=\"1\" class=\"dataframe\">\n",
       "  <thead>\n",
       "    <tr style=\"text-align: right;\">\n",
       "      <th></th>\n",
       "      <th>reviews</th>\n",
       "    </tr>\n",
       "  </thead>\n",
       "  <tbody>\n",
       "    <tr>\n",
       "      <th>0</th>\n",
       "      <td>Quick bag drop at First Wing but too many pa...</td>\n",
       "    </tr>\n",
       "    <tr>\n",
       "      <th>1</th>\n",
       "      <td>4 Hours before takeoff we received a Mail st...</td>\n",
       "    </tr>\n",
       "    <tr>\n",
       "      <th>2</th>\n",
       "      <td>I recently had a delay on British Airways fr...</td>\n",
       "    </tr>\n",
       "    <tr>\n",
       "      <th>3</th>\n",
       "      <td>Boarded on time, but it took ages to get to ...</td>\n",
       "    </tr>\n",
       "    <tr>\n",
       "      <th>4</th>\n",
       "      <td>5 days before the flight, we were advised by...</td>\n",
       "    </tr>\n",
       "  </tbody>\n",
       "</table>\n",
       "</div>"
      ],
      "text/plain": [
       "                                             reviews\n",
       "0    Quick bag drop at First Wing but too many pa...\n",
       "1    4 Hours before takeoff we received a Mail st...\n",
       "2    I recently had a delay on British Airways fr...\n",
       "3    Boarded on time, but it took ages to get to ...\n",
       "4    5 days before the flight, we were advised by..."
      ]
     },
     "execution_count": 7,
     "metadata": {},
     "output_type": "execute_result"
    }
   ],
   "source": [
    "df.head()"
   ]
  },
  {
   "cell_type": "markdown",
   "id": "93edba29",
   "metadata": {},
   "source": [
    "### Rule-based approach\n",
    "\n",
    "This is a practical approach to analyzing text without training or using machine learning models. The result of this approach is a set of rules based on which the text is labeled as positive/negative/neutral. These rules are also known as lexicons. Hence, the Rule-based approach is called Lexicon based approach.\n",
    "\n",
    "Widely used lexicon-based approaches are TextBlob, VADER, SentiWordNet.\n",
    "\n",
    "### Data preprocessing steps:\n",
    "\n",
    "- Cleaning the text\n",
    "\n",
    "- Tokenization\n",
    "\n",
    "- Enrichment – POS tagging\n",
    "\n",
    "- Stopwords removal\n",
    "\n",
    "- Obtaining the stem words"
   ]
  },
  {
   "cell_type": "markdown",
   "id": "27835b6d",
   "metadata": {},
   "source": [
    "#### Step 1: Cleaning the text"
   ]
  },
  {
   "cell_type": "code",
   "execution_count": 8,
   "id": "beca781e",
   "metadata": {},
   "outputs": [],
   "source": [
    "import re"
   ]
  },
  {
   "cell_type": "code",
   "execution_count": 9,
   "id": "9d4cd202",
   "metadata": {},
   "outputs": [],
   "source": [
    "def clean_text(txt):\n",
    "    return re.sub('[^A-Za-z]+', ' ', str(txt))"
   ]
  },
  {
   "cell_type": "code",
   "execution_count": 10,
   "id": "96538f96",
   "metadata": {},
   "outputs": [],
   "source": [
    "df['cleaned reviews'] = df.reviews.apply(clean_text)"
   ]
  },
  {
   "cell_type": "code",
   "execution_count": 11,
   "id": "dbfc17b8",
   "metadata": {},
   "outputs": [
    {
     "data": {
      "text/html": [
       "<div>\n",
       "<style scoped>\n",
       "    .dataframe tbody tr th:only-of-type {\n",
       "        vertical-align: middle;\n",
       "    }\n",
       "\n",
       "    .dataframe tbody tr th {\n",
       "        vertical-align: top;\n",
       "    }\n",
       "\n",
       "    .dataframe thead th {\n",
       "        text-align: right;\n",
       "    }\n",
       "</style>\n",
       "<table border=\"1\" class=\"dataframe\">\n",
       "  <thead>\n",
       "    <tr style=\"text-align: right;\">\n",
       "      <th></th>\n",
       "      <th>reviews</th>\n",
       "      <th>cleaned reviews</th>\n",
       "    </tr>\n",
       "  </thead>\n",
       "  <tbody>\n",
       "    <tr>\n",
       "      <th>0</th>\n",
       "      <td>Quick bag drop at First Wing but too many pa...</td>\n",
       "      <td>Quick bag drop at First Wing but too many pas...</td>\n",
       "    </tr>\n",
       "    <tr>\n",
       "      <th>1</th>\n",
       "      <td>4 Hours before takeoff we received a Mail st...</td>\n",
       "      <td>Hours before takeoff we received a Mail stati...</td>\n",
       "    </tr>\n",
       "    <tr>\n",
       "      <th>2</th>\n",
       "      <td>I recently had a delay on British Airways fr...</td>\n",
       "      <td>I recently had a delay on British Airways fro...</td>\n",
       "    </tr>\n",
       "    <tr>\n",
       "      <th>3</th>\n",
       "      <td>Boarded on time, but it took ages to get to ...</td>\n",
       "      <td>Boarded on time but it took ages to get to th...</td>\n",
       "    </tr>\n",
       "    <tr>\n",
       "      <th>4</th>\n",
       "      <td>5 days before the flight, we were advised by...</td>\n",
       "      <td>days before the flight we were advised by BA ...</td>\n",
       "    </tr>\n",
       "  </tbody>\n",
       "</table>\n",
       "</div>"
      ],
      "text/plain": [
       "                                             reviews  \\\n",
       "0    Quick bag drop at First Wing but too many pa...   \n",
       "1    4 Hours before takeoff we received a Mail st...   \n",
       "2    I recently had a delay on British Airways fr...   \n",
       "3    Boarded on time, but it took ages to get to ...   \n",
       "4    5 days before the flight, we were advised by...   \n",
       "\n",
       "                                     cleaned reviews  \n",
       "0   Quick bag drop at First Wing but too many pas...  \n",
       "1   Hours before takeoff we received a Mail stati...  \n",
       "2   I recently had a delay on British Airways fro...  \n",
       "3   Boarded on time but it took ages to get to th...  \n",
       "4   days before the flight we were advised by BA ...  "
      ]
     },
     "execution_count": 11,
     "metadata": {},
     "output_type": "execute_result"
    }
   ],
   "source": [
    "df.head()"
   ]
  },
  {
   "cell_type": "markdown",
   "id": "b6118284",
   "metadata": {},
   "source": [
    "#### Step 2: Tokenization\n",
    "Tokenization is the process of breaking the text into smaller pieces called Tokens. It can be performed at sentences(sentence tokenization) or word level(word tokenization)."
   ]
  },
  {
   "cell_type": "code",
   "execution_count": 12,
   "id": "b5645ee5",
   "metadata": {},
   "outputs": [
    {
     "name": "stderr",
     "output_type": "stream",
     "text": [
      "[nltk_data] Downloading package punkt to\n",
      "[nltk_data]     /Users/tayyubnaveed/nltk_data...\n",
      "[nltk_data]   Package punkt is already up-to-date!\n"
     ]
    },
    {
     "data": {
      "text/plain": [
       "True"
      ]
     },
     "execution_count": 12,
     "metadata": {},
     "output_type": "execute_result"
    }
   ],
   "source": [
    "import nltk\n",
    "from nltk.tokenize import word_tokenize, sent_tokenize\n",
    "\n",
    "nltk.download('punkt')"
   ]
  },
  {
   "cell_type": "code",
   "execution_count": 13,
   "id": "7faf842f",
   "metadata": {},
   "outputs": [],
   "source": [
    "df['tokens'] = df['cleaned reviews'].apply(lambda txt: word_tokenize(txt))"
   ]
  },
  {
   "cell_type": "code",
   "execution_count": 14,
   "id": "60840b0a",
   "metadata": {},
   "outputs": [
    {
     "data": {
      "text/html": [
       "<div>\n",
       "<style scoped>\n",
       "    .dataframe tbody tr th:only-of-type {\n",
       "        vertical-align: middle;\n",
       "    }\n",
       "\n",
       "    .dataframe tbody tr th {\n",
       "        vertical-align: top;\n",
       "    }\n",
       "\n",
       "    .dataframe thead th {\n",
       "        text-align: right;\n",
       "    }\n",
       "</style>\n",
       "<table border=\"1\" class=\"dataframe\">\n",
       "  <thead>\n",
       "    <tr style=\"text-align: right;\">\n",
       "      <th></th>\n",
       "      <th>reviews</th>\n",
       "      <th>cleaned reviews</th>\n",
       "      <th>tokens</th>\n",
       "    </tr>\n",
       "  </thead>\n",
       "  <tbody>\n",
       "    <tr>\n",
       "      <th>0</th>\n",
       "      <td>Quick bag drop at First Wing but too many pa...</td>\n",
       "      <td>Quick bag drop at First Wing but too many pas...</td>\n",
       "      <td>[Quick, bag, drop, at, First, Wing, but, too, ...</td>\n",
       "    </tr>\n",
       "  </tbody>\n",
       "</table>\n",
       "</div>"
      ],
      "text/plain": [
       "                                             reviews  \\\n",
       "0    Quick bag drop at First Wing but too many pa...   \n",
       "\n",
       "                                     cleaned reviews  \\\n",
       "0   Quick bag drop at First Wing but too many pas...   \n",
       "\n",
       "                                              tokens  \n",
       "0  [Quick, bag, drop, at, First, Wing, but, too, ...  "
      ]
     },
     "execution_count": 14,
     "metadata": {},
     "output_type": "execute_result"
    }
   ],
   "source": [
    "df.head(1)"
   ]
  },
  {
   "cell_type": "markdown",
   "id": "bfea2728",
   "metadata": {},
   "source": [
    "#### Step 3: Stopwords removal\n",
    "Stopwords in English are words that carry very little useful information. We need to remove them as part of text preprocessing. nltk has a list of stopwords of every language."
   ]
  },
  {
   "cell_type": "code",
   "execution_count": 15,
   "id": "69bc9226",
   "metadata": {},
   "outputs": [
    {
     "name": "stderr",
     "output_type": "stream",
     "text": [
      "[nltk_data] Downloading package stopwords to\n",
      "[nltk_data]     /Users/tayyubnaveed/nltk_data...\n",
      "[nltk_data]   Package stopwords is already up-to-date!\n"
     ]
    }
   ],
   "source": [
    "nltk.download('stopwords')\n",
    "from nltk.corpus import stopwords"
   ]
  },
  {
   "cell_type": "markdown",
   "id": "e5725604",
   "metadata": {},
   "source": [
    "#### Step 4: Enrichment – POS tagging\n",
    "Parts of Speech (POS) tagging is a process of converting each token into a tuple having the form (word, tag). POS tagging essential to preserve the context of the word and is essential for Lemmatization."
   ]
  },
  {
   "cell_type": "code",
   "execution_count": 16,
   "id": "8fe16f05",
   "metadata": {},
   "outputs": [
    {
     "name": "stderr",
     "output_type": "stream",
     "text": [
      "[nltk_data] Downloading package averaged_perceptron_tagger to\n",
      "[nltk_data]     /Users/tayyubnaveed/nltk_data...\n",
      "[nltk_data]   Package averaged_perceptron_tagger is already up-to-\n",
      "[nltk_data]       date!\n"
     ]
    },
    {
     "data": {
      "text/plain": [
       "True"
      ]
     },
     "execution_count": 16,
     "metadata": {},
     "output_type": "execute_result"
    }
   ],
   "source": [
    "from nltk import pos_tag\n",
    "nltk.download('averaged_perceptron_tagger')"
   ]
  },
  {
   "cell_type": "code",
   "execution_count": 17,
   "id": "4c158bdc",
   "metadata": {},
   "outputs": [
    {
     "name": "stderr",
     "output_type": "stream",
     "text": [
      "[nltk_data] Downloading package wordnet to\n",
      "[nltk_data]     /Users/tayyubnaveed/nltk_data...\n",
      "[nltk_data]   Package wordnet is already up-to-date!\n"
     ]
    }
   ],
   "source": [
    "nltk.download('wordnet')\n",
    "from nltk.corpus import wordnet"
   ]
  },
  {
   "cell_type": "code",
   "execution_count": 18,
   "id": "228a430c",
   "metadata": {},
   "outputs": [],
   "source": [
    "pos_dict = {'J':wordnet.ADJ, 'V':wordnet.VERB, 'N':wordnet.NOUN, 'R':wordnet.ADV}\n",
    "def token_stop_pos(text):\n",
    "    tags = pos_tag(word_tokenize(text))\n",
    "\n",
    "    newlist = []\n",
    "    for word, tag in tags:\n",
    "        if word.lower() not in set(stopwords.words('english')):\n",
    "            newlist.append(tuple([word, pos_dict.get(tag[0])]))\n",
    "    return newlist "
   ]
  },
  {
   "cell_type": "code",
   "execution_count": 19,
   "id": "c505088e",
   "metadata": {},
   "outputs": [
    {
     "data": {
      "text/html": [
       "<div>\n",
       "<style scoped>\n",
       "    .dataframe tbody tr th:only-of-type {\n",
       "        vertical-align: middle;\n",
       "    }\n",
       "\n",
       "    .dataframe tbody tr th {\n",
       "        vertical-align: top;\n",
       "    }\n",
       "\n",
       "    .dataframe thead th {\n",
       "        text-align: right;\n",
       "    }\n",
       "</style>\n",
       "<table border=\"1\" class=\"dataframe\">\n",
       "  <thead>\n",
       "    <tr style=\"text-align: right;\">\n",
       "      <th></th>\n",
       "      <th>reviews</th>\n",
       "      <th>cleaned reviews</th>\n",
       "      <th>tokens</th>\n",
       "      <th>pos tagged</th>\n",
       "    </tr>\n",
       "  </thead>\n",
       "  <tbody>\n",
       "    <tr>\n",
       "      <th>0</th>\n",
       "      <td>Quick bag drop at First Wing but too many pa...</td>\n",
       "      <td>Quick bag drop at First Wing but too many pas...</td>\n",
       "      <td>[Quick, bag, drop, at, First, Wing, but, too, ...</td>\n",
       "      <td>[(Quick, n), (bag, n), (drop, n), (First, n), ...</td>\n",
       "    </tr>\n",
       "    <tr>\n",
       "      <th>1</th>\n",
       "      <td>4 Hours before takeoff we received a Mail st...</td>\n",
       "      <td>Hours before takeoff we received a Mail stati...</td>\n",
       "      <td>[Hours, before, takeoff, we, received, a, Mail...</td>\n",
       "      <td>[(Hours, n), (takeoff, n), (received, v), (Mai...</td>\n",
       "    </tr>\n",
       "    <tr>\n",
       "      <th>2</th>\n",
       "      <td>I recently had a delay on British Airways fr...</td>\n",
       "      <td>I recently had a delay on British Airways fro...</td>\n",
       "      <td>[I, recently, had, a, delay, on, British, Airw...</td>\n",
       "      <td>[(recently, r), (delay, n), (British, a), (Air...</td>\n",
       "    </tr>\n",
       "    <tr>\n",
       "      <th>3</th>\n",
       "      <td>Boarded on time, but it took ages to get to ...</td>\n",
       "      <td>Boarded on time but it took ages to get to th...</td>\n",
       "      <td>[Boarded, on, time, but, it, took, ages, to, g...</td>\n",
       "      <td>[(Boarded, v), (time, n), (took, v), (ages, n)...</td>\n",
       "    </tr>\n",
       "    <tr>\n",
       "      <th>4</th>\n",
       "      <td>5 days before the flight, we were advised by...</td>\n",
       "      <td>days before the flight we were advised by BA ...</td>\n",
       "      <td>[days, before, the, flight, we, were, advised,...</td>\n",
       "      <td>[(days, n), (flight, n), (advised, v), (BA, n)...</td>\n",
       "    </tr>\n",
       "  </tbody>\n",
       "</table>\n",
       "</div>"
      ],
      "text/plain": [
       "                                             reviews  \\\n",
       "0    Quick bag drop at First Wing but too many pa...   \n",
       "1    4 Hours before takeoff we received a Mail st...   \n",
       "2    I recently had a delay on British Airways fr...   \n",
       "3    Boarded on time, but it took ages to get to ...   \n",
       "4    5 days before the flight, we were advised by...   \n",
       "\n",
       "                                     cleaned reviews  \\\n",
       "0   Quick bag drop at First Wing but too many pas...   \n",
       "1   Hours before takeoff we received a Mail stati...   \n",
       "2   I recently had a delay on British Airways fro...   \n",
       "3   Boarded on time but it took ages to get to th...   \n",
       "4   days before the flight we were advised by BA ...   \n",
       "\n",
       "                                              tokens  \\\n",
       "0  [Quick, bag, drop, at, First, Wing, but, too, ...   \n",
       "1  [Hours, before, takeoff, we, received, a, Mail...   \n",
       "2  [I, recently, had, a, delay, on, British, Airw...   \n",
       "3  [Boarded, on, time, but, it, took, ages, to, g...   \n",
       "4  [days, before, the, flight, we, were, advised,...   \n",
       "\n",
       "                                          pos tagged  \n",
       "0  [(Quick, n), (bag, n), (drop, n), (First, n), ...  \n",
       "1  [(Hours, n), (takeoff, n), (received, v), (Mai...  \n",
       "2  [(recently, r), (delay, n), (British, a), (Air...  \n",
       "3  [(Boarded, v), (time, n), (took, v), (ages, n)...  \n",
       "4  [(days, n), (flight, n), (advised, v), (BA, n)...  "
      ]
     },
     "execution_count": 19,
     "metadata": {},
     "output_type": "execute_result"
    }
   ],
   "source": [
    "df['pos tagged'] = df['cleaned reviews'].apply(token_stop_pos)\n",
    "df.head()"
   ]
  },
  {
   "cell_type": "markdown",
   "id": "6734f4f0",
   "metadata": {},
   "source": [
    "#### Step 5: Obtaining the stem words\n",
    "A stem is a part of a word responsible for its lexical meaning. The two popular techniques of obtaining the root/stem words are Stemming and Lemmatization.\n",
    "\n",
    "The key difference is Stemming often gives some meaningless root words as it simply chops off some characters in the end. Lemmatization gives meaningful root words, however, it requires POS tags of the words."
   ]
  },
  {
   "cell_type": "code",
   "execution_count": 20,
   "id": "9a6cb3c5",
   "metadata": {},
   "outputs": [],
   "source": [
    "from nltk.stem import WordNetLemmatizer\n"
   ]
  },
  {
   "cell_type": "code",
   "execution_count": 21,
   "id": "54a003ac",
   "metadata": {},
   "outputs": [],
   "source": [
    "wordnet_lemmatizer = WordNetLemmatizer()"
   ]
  },
  {
   "cell_type": "code",
   "execution_count": 22,
   "id": "6aca6507",
   "metadata": {},
   "outputs": [],
   "source": [
    "def lemmatize(pos_data):\n",
    "    lemma_rew = \" \"\n",
    "    for word, pos in pos_data:\n",
    "        if not pos:\n",
    "            lemma = word\n",
    "            lemma_rew = lemma_rew + \" \" + lemma\n",
    "        else:\n",
    "            lemma = wordnet_lemmatizer.lemmatize(word, pos=pos)\n",
    "            lemma_rew = lemma_rew + \" \" + lemma\n",
    "    return lemma_rew"
   ]
  },
  {
   "cell_type": "code",
   "execution_count": 23,
   "id": "3a9bd983",
   "metadata": {},
   "outputs": [
    {
     "data": {
      "text/html": [
       "<div>\n",
       "<style scoped>\n",
       "    .dataframe tbody tr th:only-of-type {\n",
       "        vertical-align: middle;\n",
       "    }\n",
       "\n",
       "    .dataframe tbody tr th {\n",
       "        vertical-align: top;\n",
       "    }\n",
       "\n",
       "    .dataframe thead th {\n",
       "        text-align: right;\n",
       "    }\n",
       "</style>\n",
       "<table border=\"1\" class=\"dataframe\">\n",
       "  <thead>\n",
       "    <tr style=\"text-align: right;\">\n",
       "      <th></th>\n",
       "      <th>reviews</th>\n",
       "      <th>cleaned reviews</th>\n",
       "      <th>tokens</th>\n",
       "      <th>pos tagged</th>\n",
       "      <th>Lemma</th>\n",
       "    </tr>\n",
       "  </thead>\n",
       "  <tbody>\n",
       "    <tr>\n",
       "      <th>0</th>\n",
       "      <td>Quick bag drop at First Wing but too many pa...</td>\n",
       "      <td>Quick bag drop at First Wing but too many pas...</td>\n",
       "      <td>[Quick, bag, drop, at, First, Wing, but, too, ...</td>\n",
       "      <td>[(Quick, n), (bag, n), (drop, n), (First, n), ...</td>\n",
       "      <td>Quick bag drop First Wing many passenger use...</td>\n",
       "    </tr>\n",
       "    <tr>\n",
       "      <th>1</th>\n",
       "      <td>4 Hours before takeoff we received a Mail st...</td>\n",
       "      <td>Hours before takeoff we received a Mail stati...</td>\n",
       "      <td>[Hours, before, takeoff, we, received, a, Mail...</td>\n",
       "      <td>[(Hours, n), (takeoff, n), (received, v), (Mai...</td>\n",
       "      <td>Hours takeoff receive Mail state cryptic mes...</td>\n",
       "    </tr>\n",
       "    <tr>\n",
       "      <th>2</th>\n",
       "      <td>I recently had a delay on British Airways fr...</td>\n",
       "      <td>I recently had a delay on British Airways fro...</td>\n",
       "      <td>[I, recently, had, a, delay, on, British, Airw...</td>\n",
       "      <td>[(recently, r), (delay, n), (British, a), (Air...</td>\n",
       "      <td>recently delay British Airways BRU LHR due s...</td>\n",
       "    </tr>\n",
       "    <tr>\n",
       "      <th>3</th>\n",
       "      <td>Boarded on time, but it took ages to get to ...</td>\n",
       "      <td>Boarded on time but it took ages to get to th...</td>\n",
       "      <td>[Boarded, on, time, but, it, took, ages, to, g...</td>\n",
       "      <td>[(Boarded, v), (time, n), (took, v), (ages, n)...</td>\n",
       "      <td>Boarded time take age get runway due congest...</td>\n",
       "    </tr>\n",
       "    <tr>\n",
       "      <th>4</th>\n",
       "      <td>5 days before the flight, we were advised by...</td>\n",
       "      <td>days before the flight we were advised by BA ...</td>\n",
       "      <td>[days, before, the, flight, we, were, advised,...</td>\n",
       "      <td>[(days, n), (flight, n), (advised, v), (BA, n)...</td>\n",
       "      <td>day flight advise BA cancel ask us rebook fl...</td>\n",
       "    </tr>\n",
       "  </tbody>\n",
       "</table>\n",
       "</div>"
      ],
      "text/plain": [
       "                                             reviews  \\\n",
       "0    Quick bag drop at First Wing but too many pa...   \n",
       "1    4 Hours before takeoff we received a Mail st...   \n",
       "2    I recently had a delay on British Airways fr...   \n",
       "3    Boarded on time, but it took ages to get to ...   \n",
       "4    5 days before the flight, we were advised by...   \n",
       "\n",
       "                                     cleaned reviews  \\\n",
       "0   Quick bag drop at First Wing but too many pas...   \n",
       "1   Hours before takeoff we received a Mail stati...   \n",
       "2   I recently had a delay on British Airways fro...   \n",
       "3   Boarded on time but it took ages to get to th...   \n",
       "4   days before the flight we were advised by BA ...   \n",
       "\n",
       "                                              tokens  \\\n",
       "0  [Quick, bag, drop, at, First, Wing, but, too, ...   \n",
       "1  [Hours, before, takeoff, we, received, a, Mail...   \n",
       "2  [I, recently, had, a, delay, on, British, Airw...   \n",
       "3  [Boarded, on, time, but, it, took, ages, to, g...   \n",
       "4  [days, before, the, flight, we, were, advised,...   \n",
       "\n",
       "                                          pos tagged  \\\n",
       "0  [(Quick, n), (bag, n), (drop, n), (First, n), ...   \n",
       "1  [(Hours, n), (takeoff, n), (received, v), (Mai...   \n",
       "2  [(recently, r), (delay, n), (British, a), (Air...   \n",
       "3  [(Boarded, v), (time, n), (took, v), (ages, n)...   \n",
       "4  [(days, n), (flight, n), (advised, v), (BA, n)...   \n",
       "\n",
       "                                               Lemma  \n",
       "0    Quick bag drop First Wing many passenger use...  \n",
       "1    Hours takeoff receive Mail state cryptic mes...  \n",
       "2    recently delay British Airways BRU LHR due s...  \n",
       "3    Boarded time take age get runway due congest...  \n",
       "4    day flight advise BA cancel ask us rebook fl...  "
      ]
     },
     "execution_count": 23,
     "metadata": {},
     "output_type": "execute_result"
    }
   ],
   "source": [
    "df['Lemma'] = df['pos tagged'].apply(lemmatize)\n",
    "df.head()"
   ]
  },
  {
   "cell_type": "markdown",
   "id": "5ec1de10",
   "metadata": {},
   "source": [
    "## Sentiment Analysis using VADER\n",
    "VADER stands for Valence Aware Dictionary and Sentiment Reasoner.\n",
    "\n",
    "Vader sentiment not only tells if the statement is positive or negative along with the intensity of emotion."
   ]
  },
  {
   "cell_type": "code",
   "execution_count": 24,
   "id": "50ea1536",
   "metadata": {},
   "outputs": [
    {
     "name": "stdout",
     "output_type": "stream",
     "text": [
      "Requirement already satisfied: vaderSentiment in /Users/tayyubnaveed/anaconda3/envs/ds/lib/python3.11/site-packages (3.3.2)\n",
      "Requirement already satisfied: requests in /Users/tayyubnaveed/anaconda3/envs/ds/lib/python3.11/site-packages (from vaderSentiment) (2.31.0)\n",
      "Requirement already satisfied: charset-normalizer<4,>=2 in /Users/tayyubnaveed/anaconda3/envs/ds/lib/python3.11/site-packages (from requests->vaderSentiment) (2.0.4)\n",
      "Requirement already satisfied: idna<4,>=2.5 in /Users/tayyubnaveed/anaconda3/envs/ds/lib/python3.11/site-packages (from requests->vaderSentiment) (3.4)\n",
      "Requirement already satisfied: urllib3<3,>=1.21.1 in /Users/tayyubnaveed/anaconda3/envs/ds/lib/python3.11/site-packages (from requests->vaderSentiment) (1.26.18)\n",
      "Requirement already satisfied: certifi>=2017.4.17 in /Users/tayyubnaveed/anaconda3/envs/ds/lib/python3.11/site-packages (from requests->vaderSentiment) (2023.7.22)\n"
     ]
    }
   ],
   "source": [
    "!pip install vaderSentiment"
   ]
  },
  {
   "cell_type": "code",
   "execution_count": 25,
   "id": "11e2a13a",
   "metadata": {},
   "outputs": [],
   "source": [
    "from vaderSentiment.vaderSentiment import SentimentIntensityAnalyzer\n",
    "analyzer = SentimentIntensityAnalyzer()"
   ]
  },
  {
   "cell_type": "code",
   "execution_count": 26,
   "id": "5c95b227",
   "metadata": {},
   "outputs": [],
   "source": [
    "def vadersentimentanalysis(review):\n",
    "    vs = analyzer.polarity_scores(review)\n",
    "    return vs['compound']"
   ]
  },
  {
   "cell_type": "code",
   "execution_count": 27,
   "id": "6ee4a28e",
   "metadata": {},
   "outputs": [],
   "source": [
    "df['Sentiment'] = df['Lemma'].apply(vadersentimentanalysis)"
   ]
  },
  {
   "cell_type": "code",
   "execution_count": 28,
   "id": "a034fef7",
   "metadata": {},
   "outputs": [
    {
     "data": {
      "text/html": [
       "<div>\n",
       "<style scoped>\n",
       "    .dataframe tbody tr th:only-of-type {\n",
       "        vertical-align: middle;\n",
       "    }\n",
       "\n",
       "    .dataframe tbody tr th {\n",
       "        vertical-align: top;\n",
       "    }\n",
       "\n",
       "    .dataframe thead th {\n",
       "        text-align: right;\n",
       "    }\n",
       "</style>\n",
       "<table border=\"1\" class=\"dataframe\">\n",
       "  <thead>\n",
       "    <tr style=\"text-align: right;\">\n",
       "      <th></th>\n",
       "      <th>reviews</th>\n",
       "      <th>cleaned reviews</th>\n",
       "      <th>tokens</th>\n",
       "      <th>pos tagged</th>\n",
       "      <th>Lemma</th>\n",
       "      <th>Sentiment</th>\n",
       "    </tr>\n",
       "  </thead>\n",
       "  <tbody>\n",
       "    <tr>\n",
       "      <th>0</th>\n",
       "      <td>Quick bag drop at First Wing but too many pa...</td>\n",
       "      <td>Quick bag drop at First Wing but too many pas...</td>\n",
       "      <td>[Quick, bag, drop, at, First, Wing, but, too, ...</td>\n",
       "      <td>[(Quick, n), (bag, n), (drop, n), (First, n), ...</td>\n",
       "      <td>Quick bag drop First Wing many passenger use...</td>\n",
       "      <td>0.9806</td>\n",
       "    </tr>\n",
       "    <tr>\n",
       "      <th>1</th>\n",
       "      <td>4 Hours before takeoff we received a Mail st...</td>\n",
       "      <td>Hours before takeoff we received a Mail stati...</td>\n",
       "      <td>[Hours, before, takeoff, we, received, a, Mail...</td>\n",
       "      <td>[(Hours, n), (takeoff, n), (received, v), (Mai...</td>\n",
       "      <td>Hours takeoff receive Mail state cryptic mes...</td>\n",
       "      <td>-0.8046</td>\n",
       "    </tr>\n",
       "    <tr>\n",
       "      <th>2</th>\n",
       "      <td>I recently had a delay on British Airways fr...</td>\n",
       "      <td>I recently had a delay on British Airways fro...</td>\n",
       "      <td>[I, recently, had, a, delay, on, British, Airw...</td>\n",
       "      <td>[(recently, r), (delay, n), (British, a), (Air...</td>\n",
       "      <td>recently delay British Airways BRU LHR due s...</td>\n",
       "      <td>-0.7165</td>\n",
       "    </tr>\n",
       "    <tr>\n",
       "      <th>3</th>\n",
       "      <td>Boarded on time, but it took ages to get to ...</td>\n",
       "      <td>Boarded on time but it took ages to get to th...</td>\n",
       "      <td>[Boarded, on, time, but, it, took, ages, to, g...</td>\n",
       "      <td>[(Boarded, v), (time, n), (took, v), (ages, n)...</td>\n",
       "      <td>Boarded time take age get runway due congest...</td>\n",
       "      <td>0.4404</td>\n",
       "    </tr>\n",
       "    <tr>\n",
       "      <th>4</th>\n",
       "      <td>5 days before the flight, we were advised by...</td>\n",
       "      <td>days before the flight we were advised by BA ...</td>\n",
       "      <td>[days, before, the, flight, we, were, advised,...</td>\n",
       "      <td>[(days, n), (flight, n), (advised, v), (BA, n)...</td>\n",
       "      <td>day flight advise BA cancel ask us rebook fl...</td>\n",
       "      <td>-0.3167</td>\n",
       "    </tr>\n",
       "  </tbody>\n",
       "</table>\n",
       "</div>"
      ],
      "text/plain": [
       "                                             reviews  \\\n",
       "0    Quick bag drop at First Wing but too many pa...   \n",
       "1    4 Hours before takeoff we received a Mail st...   \n",
       "2    I recently had a delay on British Airways fr...   \n",
       "3    Boarded on time, but it took ages to get to ...   \n",
       "4    5 days before the flight, we were advised by...   \n",
       "\n",
       "                                     cleaned reviews  \\\n",
       "0   Quick bag drop at First Wing but too many pas...   \n",
       "1   Hours before takeoff we received a Mail stati...   \n",
       "2   I recently had a delay on British Airways fro...   \n",
       "3   Boarded on time but it took ages to get to th...   \n",
       "4   days before the flight we were advised by BA ...   \n",
       "\n",
       "                                              tokens  \\\n",
       "0  [Quick, bag, drop, at, First, Wing, but, too, ...   \n",
       "1  [Hours, before, takeoff, we, received, a, Mail...   \n",
       "2  [I, recently, had, a, delay, on, British, Airw...   \n",
       "3  [Boarded, on, time, but, it, took, ages, to, g...   \n",
       "4  [days, before, the, flight, we, were, advised,...   \n",
       "\n",
       "                                          pos tagged  \\\n",
       "0  [(Quick, n), (bag, n), (drop, n), (First, n), ...   \n",
       "1  [(Hours, n), (takeoff, n), (received, v), (Mai...   \n",
       "2  [(recently, r), (delay, n), (British, a), (Air...   \n",
       "3  [(Boarded, v), (time, n), (took, v), (ages, n)...   \n",
       "4  [(days, n), (flight, n), (advised, v), (BA, n)...   \n",
       "\n",
       "                                               Lemma  Sentiment  \n",
       "0    Quick bag drop First Wing many passenger use...     0.9806  \n",
       "1    Hours takeoff receive Mail state cryptic mes...    -0.8046  \n",
       "2    recently delay British Airways BRU LHR due s...    -0.7165  \n",
       "3    Boarded time take age get runway due congest...     0.4404  \n",
       "4    day flight advise BA cancel ask us rebook fl...    -0.3167  "
      ]
     },
     "execution_count": 28,
     "metadata": {},
     "output_type": "execute_result"
    }
   ],
   "source": [
    "df.head()"
   ]
  },
  {
   "cell_type": "code",
   "execution_count": 29,
   "id": "9164ebca",
   "metadata": {},
   "outputs": [],
   "source": [
    "def vader_analysis(compound):\n",
    "    if compound >= 0.5:\n",
    "        return 'Positive'\n",
    "    elif compound < 0 :\n",
    "        return 'Negative'\n",
    "    else:\n",
    "        return 'Neutral'"
   ]
  },
  {
   "cell_type": "code",
   "execution_count": 30,
   "id": "89bf8836",
   "metadata": {},
   "outputs": [
    {
     "data": {
      "text/html": [
       "<div>\n",
       "<style scoped>\n",
       "    .dataframe tbody tr th:only-of-type {\n",
       "        vertical-align: middle;\n",
       "    }\n",
       "\n",
       "    .dataframe tbody tr th {\n",
       "        vertical-align: top;\n",
       "    }\n",
       "\n",
       "    .dataframe thead th {\n",
       "        text-align: right;\n",
       "    }\n",
       "</style>\n",
       "<table border=\"1\" class=\"dataframe\">\n",
       "  <thead>\n",
       "    <tr style=\"text-align: right;\">\n",
       "      <th></th>\n",
       "      <th>reviews</th>\n",
       "      <th>cleaned reviews</th>\n",
       "      <th>tokens</th>\n",
       "      <th>pos tagged</th>\n",
       "      <th>Lemma</th>\n",
       "      <th>Sentiment</th>\n",
       "      <th>Analysis</th>\n",
       "    </tr>\n",
       "  </thead>\n",
       "  <tbody>\n",
       "    <tr>\n",
       "      <th>0</th>\n",
       "      <td>Quick bag drop at First Wing but too many pa...</td>\n",
       "      <td>Quick bag drop at First Wing but too many pas...</td>\n",
       "      <td>[Quick, bag, drop, at, First, Wing, but, too, ...</td>\n",
       "      <td>[(Quick, n), (bag, n), (drop, n), (First, n), ...</td>\n",
       "      <td>Quick bag drop First Wing many passenger use...</td>\n",
       "      <td>0.9806</td>\n",
       "      <td>Positive</td>\n",
       "    </tr>\n",
       "    <tr>\n",
       "      <th>1</th>\n",
       "      <td>4 Hours before takeoff we received a Mail st...</td>\n",
       "      <td>Hours before takeoff we received a Mail stati...</td>\n",
       "      <td>[Hours, before, takeoff, we, received, a, Mail...</td>\n",
       "      <td>[(Hours, n), (takeoff, n), (received, v), (Mai...</td>\n",
       "      <td>Hours takeoff receive Mail state cryptic mes...</td>\n",
       "      <td>-0.8046</td>\n",
       "      <td>Negative</td>\n",
       "    </tr>\n",
       "    <tr>\n",
       "      <th>2</th>\n",
       "      <td>I recently had a delay on British Airways fr...</td>\n",
       "      <td>I recently had a delay on British Airways fro...</td>\n",
       "      <td>[I, recently, had, a, delay, on, British, Airw...</td>\n",
       "      <td>[(recently, r), (delay, n), (British, a), (Air...</td>\n",
       "      <td>recently delay British Airways BRU LHR due s...</td>\n",
       "      <td>-0.7165</td>\n",
       "      <td>Negative</td>\n",
       "    </tr>\n",
       "    <tr>\n",
       "      <th>3</th>\n",
       "      <td>Boarded on time, but it took ages to get to ...</td>\n",
       "      <td>Boarded on time but it took ages to get to th...</td>\n",
       "      <td>[Boarded, on, time, but, it, took, ages, to, g...</td>\n",
       "      <td>[(Boarded, v), (time, n), (took, v), (ages, n)...</td>\n",
       "      <td>Boarded time take age get runway due congest...</td>\n",
       "      <td>0.4404</td>\n",
       "      <td>Neutral</td>\n",
       "    </tr>\n",
       "    <tr>\n",
       "      <th>4</th>\n",
       "      <td>5 days before the flight, we were advised by...</td>\n",
       "      <td>days before the flight we were advised by BA ...</td>\n",
       "      <td>[days, before, the, flight, we, were, advised,...</td>\n",
       "      <td>[(days, n), (flight, n), (advised, v), (BA, n)...</td>\n",
       "      <td>day flight advise BA cancel ask us rebook fl...</td>\n",
       "      <td>-0.3167</td>\n",
       "      <td>Negative</td>\n",
       "    </tr>\n",
       "  </tbody>\n",
       "</table>\n",
       "</div>"
      ],
      "text/plain": [
       "                                             reviews  \\\n",
       "0    Quick bag drop at First Wing but too many pa...   \n",
       "1    4 Hours before takeoff we received a Mail st...   \n",
       "2    I recently had a delay on British Airways fr...   \n",
       "3    Boarded on time, but it took ages to get to ...   \n",
       "4    5 days before the flight, we were advised by...   \n",
       "\n",
       "                                     cleaned reviews  \\\n",
       "0   Quick bag drop at First Wing but too many pas...   \n",
       "1   Hours before takeoff we received a Mail stati...   \n",
       "2   I recently had a delay on British Airways fro...   \n",
       "3   Boarded on time but it took ages to get to th...   \n",
       "4   days before the flight we were advised by BA ...   \n",
       "\n",
       "                                              tokens  \\\n",
       "0  [Quick, bag, drop, at, First, Wing, but, too, ...   \n",
       "1  [Hours, before, takeoff, we, received, a, Mail...   \n",
       "2  [I, recently, had, a, delay, on, British, Airw...   \n",
       "3  [Boarded, on, time, but, it, took, ages, to, g...   \n",
       "4  [days, before, the, flight, we, were, advised,...   \n",
       "\n",
       "                                          pos tagged  \\\n",
       "0  [(Quick, n), (bag, n), (drop, n), (First, n), ...   \n",
       "1  [(Hours, n), (takeoff, n), (received, v), (Mai...   \n",
       "2  [(recently, r), (delay, n), (British, a), (Air...   \n",
       "3  [(Boarded, v), (time, n), (took, v), (ages, n)...   \n",
       "4  [(days, n), (flight, n), (advised, v), (BA, n)...   \n",
       "\n",
       "                                               Lemma  Sentiment  Analysis  \n",
       "0    Quick bag drop First Wing many passenger use...     0.9806  Positive  \n",
       "1    Hours takeoff receive Mail state cryptic mes...    -0.8046  Negative  \n",
       "2    recently delay British Airways BRU LHR due s...    -0.7165  Negative  \n",
       "3    Boarded time take age get runway due congest...     0.4404   Neutral  \n",
       "4    day flight advise BA cancel ask us rebook fl...    -0.3167  Negative  "
      ]
     },
     "execution_count": 30,
     "metadata": {},
     "output_type": "execute_result"
    }
   ],
   "source": [
    "df['Analysis'] = df['Sentiment'].apply(vader_analysis)\n",
    "\n",
    "df.head()"
   ]
  },
  {
   "cell_type": "code",
   "execution_count": 31,
   "id": "8e18fd89",
   "metadata": {},
   "outputs": [
    {
     "data": {
      "text/plain": [
       "Analysis\n",
       "Positive    480\n",
       "Negative    412\n",
       "Neutral     108\n",
       "Name: count, dtype: int64"
      ]
     },
     "execution_count": 31,
     "metadata": {},
     "output_type": "execute_result"
    }
   ],
   "source": [
    "vader_counts = df['Analysis'].value_counts()\n",
    "vader_counts"
   ]
  },
  {
   "cell_type": "markdown",
   "id": "9ae9c30b",
   "metadata": {},
   "source": [
    "#### Visual Representation"
   ]
  },
  {
   "cell_type": "code",
   "execution_count": 32,
   "id": "efb020bb",
   "metadata": {},
   "outputs": [],
   "source": [
    "import matplotlib.pyplot as plt\n",
    "%matplotlib inline"
   ]
  },
  {
   "cell_type": "code",
   "execution_count": 33,
   "id": "0bb76810",
   "metadata": {},
   "outputs": [
    {
     "data": {
      "image/png": "[encoded data removed]",
      "text/plain": [
       "<Figure size 640x480 with 1 Axes>"
      ]
     },
     "metadata": {},
     "output_type": "display_data"
    }
   ],
   "source": [
    "plt.title(\"Reviews Analysis\")\n",
    "plt.pie(vader_counts.values, labels = vader_counts.index, explode = (0, 0, 0.25), autopct='%1.1f%%', shadow=False)\n",
    "plt.show()"
   ]
  },
  {
   "cell_type": "code",
   "execution_count": 34,
   "id": "d0fcfee9",
   "metadata": {},
   "outputs": [],
   "source": [
    "df.to_csv(\"British_airways_reviews.csv\")"
   ]
  },
  {
   "cell_type": "code",
   "execution_count": null,
   "id": "4527f3dc",
   "metadata": {},
   "outputs": [],
   "source": []
  }
 ],
 "metadata": {
  "kernelspec": {
   "display_name": "Python 3 (ipykernel)",
   "language": "python",
   "name": "python3"
  },
  "language_info": {
   "codemirror_mode": {
    "name": "ipython",
    "version": 3
   },
   "file_extension": ".py",
   "mimetype": "text/x-python",
   "name": "python",
   "nbconvert_exporter": "python",
   "pygments_lexer": "ipython3",
   "version": "3.11.5"
  }
 },
 "nbformat": 4,
 "nbformat_minor": 5
}
